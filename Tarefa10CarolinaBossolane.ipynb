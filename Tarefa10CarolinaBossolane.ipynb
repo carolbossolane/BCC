{
  "nbformat": 4,
  "nbformat_minor": 0,
  "metadata": {
    "colab": {
      "provenance": [],
      "authorship_tag": "ABX9TyMM5Idgty6BTvb+ka4VS/vK",
      "include_colab_link": true
    },
    "kernelspec": {
      "name": "python3",
      "display_name": "Python 3"
    },
    "language_info": {
      "name": "python"
    }
  },
  "cells": [
    {
      "cell_type": "markdown",
      "metadata": {
        "id": "view-in-github",
        "colab_type": "text"
      },
      "source": [
        "<a href=\"https://colab.research.google.com/github/carolbossolane/BCC19CarolinaBossolane/blob/main/Tarefa10CarolinaBossolane.ipynb\" target=\"_parent\"><img src=\"https://colab.research.google.com/assets/colab-badge.svg\" alt=\"Open In Colab\"/></a>"
      ]
    },
    {
      "cell_type": "markdown",
      "source": [
        "Carolina Bossolane Carvalho "
      ],
      "metadata": {
        "id": "eian1S8ii5T6"
      }
    },
    {
      "cell_type": "markdown",
      "source": [
        "1) Para este item você deverá usar o arquivo com todos os resultados do campeonato Brasileiro de futebol de 2018 (tabelaBrasileirao2018.csv encontrado na pasta aula5/dados) (dados obtidos desta e desta página da Wikipedia).\n",
        "\n",
        "Calcule (e mostre o resultado) a porcentagem de jogos que o time da casa (mandante) ganhou o jogo.\n",
        "\n",
        "Calcule (e mostre o resultado) a porcentagem de jogos que o time da casa (mandante) não perdeu o jogo."
      ],
      "metadata": {
        "id": "Jp4SvKoZi8GJ"
      }
    },
    {
      "cell_type": "code",
      "source": [],
      "metadata": {
        "id": "g7FzxXabjExO"
      },
      "execution_count": null,
      "outputs": []
    },
    {
      "cell_type": "markdown",
      "source": [
        "2) Para este item você deverá usar o arquivo com a taxa de inflação mensal (IGP-DI) no Brasil de fevereiro de 1944 a junho de 2019 (dados disponibilizados por Ipeadata).\n",
        "\n",
        "Faça um gráfico da taxa de inflação mensal em função do tempo.\n",
        "Mostre em que mês e ano e qual foi a maior taxa de inflação mensal medida neste período (fevereiro de 1944 a junho de 2019).\n",
        "Dica: para fazer o gráfico, note que um mês corresponde a um doze avos de ano. Para facilitar a criação do gráfico você pode criar uma outra coluna que corresponda ao ano adicionado da fração correspondente ao mês."
      ],
      "metadata": {
        "id": "c5g4RFcxjAWH"
      }
    },
    {
      "cell_type": "code",
      "source": [],
      "metadata": {
        "id": "xYEz0SsNjF2r"
      },
      "execution_count": null,
      "outputs": []
    },
    {
      "cell_type": "markdown",
      "source": [
        "3) Para este item você pode usar esse histórico de visualização do Netflix ou, se você tiver acesso ao Netflix, usar o seu histórico (após entrar com a sua senha, role até o final da página e clique em \"Baixar tudo\").\n",
        "\n",
        "Mostre quais são os 10 programas mais vistos.\n",
        "Em qual mês do ano foi assistido mais programas?"
      ],
      "metadata": {
        "id": "OF8LHJnkjG89"
      }
    },
    {
      "cell_type": "code",
      "source": [],
      "metadata": {
        "id": "mMLy3XNPjLcp"
      },
      "execution_count": null,
      "outputs": []
    },
    {
      "cell_type": "markdown",
      "source": [
        "4) Para este item você deverá usar o arquivo com todos os resultados do campeonato Brasileiro de futebol de 2018 (tabelaBrasileirao2018.csv encontrado na pasta aula5/dados) (dados obtidos desta e desta página da Wikipedia).\n",
        "\n",
        "Calcule qual foi a média de Renda para cada Estádio."
      ],
      "metadata": {
        "id": "fr6ydCvMjLlw"
      }
    },
    {
      "cell_type": "code",
      "source": [],
      "metadata": {
        "id": "02w1pQnwjPcW"
      },
      "execution_count": null,
      "outputs": []
    }
  ]
}