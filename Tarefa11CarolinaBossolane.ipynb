{
  "nbformat": 4,
  "nbformat_minor": 0,
  "metadata": {
    "colab": {
      "provenance": [],
      "authorship_tag": "ABX9TyP/60o+AUsv16fXIMB5mqcY",
      "include_colab_link": true
    },
    "kernelspec": {
      "name": "python3",
      "display_name": "Python 3"
    },
    "language_info": {
      "name": "python"
    }
  },
  "cells": [
    {
      "cell_type": "markdown",
      "metadata": {
        "id": "view-in-github",
        "colab_type": "text"
      },
      "source": [
        "<a href=\"https://colab.research.google.com/github/carolbossolane/BCC19CarolinaBossolane/blob/main/Tarefa11CarolinaBossolane.ipynb\" target=\"_parent\"><img src=\"https://colab.research.google.com/assets/colab-badge.svg\" alt=\"Open In Colab\"/></a>"
      ]
    },
    {
      "cell_type": "markdown",
      "source": [
        "Carolina Bossolane Carvalho "
      ],
      "metadata": {
        "id": "UlYdJhrtTdFt"
      }
    },
    {
      "cell_type": "markdown",
      "source": [
        "1) Faça a aproximação de  π  usando a fórmula de Leibniz:\n",
        "\n",
        "π≈4−43+45−47+49+... \n",
        "\n",
        "Calcule (e mostre na tela) a aproximação de  π  considerando a) 50 termos, b) 500 termos, c) 1000 termos e d) 10000 termos."
      ],
      "metadata": {
        "id": "v45HaLveTjkd"
      }
    },
    {
      "cell_type": "code",
      "source": [
        "import numpy as np\n",
        "\n",
        "#a)\n",
        "N=50 \n",
        "S=0\n",
        "\n",
        "for i in range(N):\n",
        "  if i%2==0:\n",
        "    S=S+4/np.abs(3*i-(i-1))\n",
        "  if i%2==1:\n",
        "    S=S-4/np.abs(3*i-(i-1))\n",
        "print('S=',S)\n",
        "\n",
        "#b)\n",
        "N=500\n",
        "S=0\n",
        "\n",
        "for i in range(N):\n",
        "  if i%2==0:\n",
        "    S=S+4/np.abs(3*i-(i-1))\n",
        "  if i%2==1:\n",
        "    S=S-4/np.abs(3*i-(i-1))\n",
        "print('S=',S)\n",
        "\n",
        "#c)\n",
        "N=1000\n",
        "S=0\n",
        "\n",
        "for i in range(N):\n",
        "  if i%2==0:\n",
        "    S=S+4/np.abs(3*i-(i-1))\n",
        "  if i%2==1:\n",
        "    S=S-4/np.abs(3*i-(i-1))\n",
        "print('S=',S)\n",
        "\n",
        "#d)\n",
        "N=10000\n",
        "S=0\n",
        "\n",
        "for i in range(N):\n",
        "  if i%2==0:\n",
        "    S=S+4/np.abs(3*i-(i-1))\n",
        "  if i%2==1:\n",
        "    S=S-4/np.abs(3*i-(i-1))\n",
        "print('S=',S)"
      ],
      "metadata": {
        "colab": {
          "base_uri": "https://localhost:8080/"
        },
        "id": "RIlg5GFqThBx",
        "outputId": "818947a3-6f82-4ad1-e908-5a40ca655f1e"
      },
      "execution_count": 2,
      "outputs": [
        {
          "output_type": "stream",
          "name": "stdout",
          "text": [
            "S= 3.121594652591011\n",
            "S= 3.139592655589785\n",
            "S= 3.140592653839794\n",
            "S= 3.1414926535900345\n"
          ]
        }
      ]
    }
  ]
}