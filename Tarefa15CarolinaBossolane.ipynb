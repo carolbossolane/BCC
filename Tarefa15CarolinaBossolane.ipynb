{
  "nbformat": 4,
  "nbformat_minor": 0,
  "metadata": {
    "colab": {
      "provenance": [],
      "authorship_tag": "ABX9TyP/wmwvcA2eX6AkewBOHBj0",
      "include_colab_link": true
    },
    "kernelspec": {
      "name": "python3",
      "display_name": "Python 3"
    },
    "language_info": {
      "name": "python"
    }
  },
  "cells": [
    {
      "cell_type": "markdown",
      "metadata": {
        "id": "view-in-github",
        "colab_type": "text"
      },
      "source": [
        "<a href=\"https://colab.research.google.com/github/carolbossolane/BCC19CarolinaBossolane/blob/main/Tarefa15CarolinaBossolane.ipynb\" target=\"_parent\"><img src=\"https://colab.research.google.com/assets/colab-badge.svg\" alt=\"Open In Colab\"/></a>"
      ]
    },
    {
      "cell_type": "markdown",
      "source": [
        "Carolina Bossolane Carvalho "
      ],
      "metadata": {
        "id": "XgBxa4fL3FX9"
      }
    },
    {
      "cell_type": "markdown",
      "source": [
        "1) Faça uma função que receba um número a, um número b e um número x. Esta função deve retornar True se x estiver entre a e b e False caso contrário. Além disso a função deve mostrar uma mensagem dizendo se x está no intervalo entre a e b ou não.\n",
        "\n",
        "Teste para\n",
        "\n",
        "a) a = -2.5, b = 6.3 e x = 9.1;\n",
        "b) a = -10, b = 7 e x = 2.2\n",
        "c) a = 67.2, b = 87.2 e x = 8.1"
      ],
      "metadata": {
        "id": "ku6Pn5wa3K0Q"
      }
    },
    {
      "cell_type": "code",
      "source": [
        "def noIntervalo(a,b,x):\n",
        "\n",
        "  '''\n",
        "Retorna True se x está entre a e b e False se não\n",
        "\n",
        "Parâmetros:\n",
        "-------------------------------------------------\n",
        "a:int \n",
        "Número inteiro menor \n",
        "\n",
        "b:int\n",
        "Número inteiro maior \n",
        "\n",
        "x:int\n",
        "Número inteiro que se quer fazer a verificação\n",
        "\n",
        "Retorna\n",
        "-------------------------------------------------\n",
        "entre:boolean\n",
        "Retorna True se a condição for verdadeira e False se não for\n",
        "  '''\n",
        "\n",
        "  if a<x<b:\n",
        "    print(x,'está entre',a,'e',b)\n",
        "    entre= True\n",
        "  else:\n",
        "    print(x,'não está entre',a,'e',b)\n",
        "    entre= False\n",
        "  return entre\n",
        "\n",
        "#a)\n",
        "a1=-2.5\n",
        "b1=6.3\n",
        "x1=9.1\n",
        "a=noIntervalo(a1,b1,x1)\n",
        "print(a)\n",
        "\n",
        "#b)\n",
        "a2=-10\n",
        "b2=7\n",
        "x2=2.2\n",
        "b=noIntervalo(a2,b2,x2)\n",
        "print(b)\n",
        "\n",
        "#c)\n",
        "a3=67.2\n",
        "b3=87.2\n",
        "x3=8.1\n",
        "c=noIntervalo(a3,b3,x3)\n",
        "print(c)"
      ],
      "metadata": {
        "colab": {
          "base_uri": "https://localhost:8080/"
        },
        "id": "sIDapnJB39Y7",
        "outputId": "4ccf47d1-19ee-4a1d-d709-77d4d974fb39"
      },
      "execution_count": 2,
      "outputs": [
        {
          "output_type": "stream",
          "name": "stdout",
          "text": [
            "9.1 não está entre -2.5 e 6.3\n",
            "False\n",
            "2.2 está entre -10 e 7\n",
            "True\n",
            "8.1 não está entre 67.2 e 87.2\n",
            "False\n"
          ]
        }
      ]
    }
  ]
}