{
  "nbformat": 4,
  "nbformat_minor": 0,
  "metadata": {
    "colab": {
      "provenance": [],
      "authorship_tag": "ABX9TyNcYrkB68V3MOgAUJJdOYFr",
      "include_colab_link": true
    },
    "kernelspec": {
      "name": "python3",
      "display_name": "Python 3"
    },
    "language_info": {
      "name": "python"
    }
  },
  "cells": [
    {
      "cell_type": "markdown",
      "metadata": {
        "id": "view-in-github",
        "colab_type": "text"
      },
      "source": [
        "<a href=\"https://colab.research.google.com/github/carolbossolane/BCC19CarolinaBossolane/blob/main/Tarefa8CarolinaBossolane.ipynb\" target=\"_parent\"><img src=\"https://colab.research.google.com/assets/colab-badge.svg\" alt=\"Open In Colab\"/></a>"
      ]
    },
    {
      "cell_type": "markdown",
      "source": [
        "Carolina Bossolane Carvalho "
      ],
      "metadata": {
        "id": "DD3FuArrg0xG"
      }
    },
    {
      "cell_type": "markdown",
      "source": [
        "1) O índice de massa corporal (IMC) de uma pessoa é calculado por:\n",
        "\n",
        "IMC=m/h² \n",
        "\n",
        "em que  m  é a massa corporal, em kg, e  h  é a altura, em metros.\n",
        "\n",
        "O IMC tem a seguinte classificação:\n",
        "\n",
        "menor que 17 kg/m 2  -- Muito abaixo do peso\n",
        "17 a 18,5 kg/m 2  -- Abaixo do peso\n",
        "18,5 a 25 kg/m 2  -- Peso normal\n",
        "25 a 30 kg/m 2  -- Acima do peso\n",
        "30 a 35 kg/m 2  -- Obesidade Grau I\n",
        "35 a 40 kg/m 2  -- Obesidade Grau II\n",
        "maior que 40 kg/m 2  -- Obesidade Grau III\n",
        "Escreva um código em Python para calcular o IMC e mostrar a classificação do IMC.\n",
        "Teste para a)  m=52  kg e  h=1,58  m, b)  m=83  kg e  h=1,75  m, c) seu peso e altura."
      ],
      "metadata": {
        "id": "T6SmWjUKhB8o"
      }
    },
    {
      "cell_type": "code",
      "source": [
        "#a)\n",
        "import numpy as np\n",
        "m = 52\n",
        "h = 1.58\n",
        "IMC = m/h**2\n",
        "print (IMC)\n",
        "if IMC <17:\n",
        "  print('muito abaixo do peso')\n",
        "elif IMC>17 and IMC<18.5:\n",
        "  print('abaixo do peso')\n",
        "elif IMC>18.5 and IMC<25:\n",
        "  print('peso normal')\n",
        "elif IMC>25 and IMC<30:\n",
        "  print('acima do peso')\n",
        "elif IMC>30 and IMC<35:\n",
        "  print('obesidade grau I')\n",
        "elif IMC>35 and IMC<40:\n",
        "  print('obesidade grau II')\n",
        "else:\n",
        "  print('obesidade grau III')\n"
      ],
      "metadata": {
        "colab": {
          "base_uri": "https://localhost:8080/"
        },
        "id": "n6EcfWXipGrC",
        "outputId": "a37e29fb-e117-4370-c432-2e4b618e1259"
      },
      "execution_count": 7,
      "outputs": [
        {
          "output_type": "stream",
          "name": "stdout",
          "text": [
            "20.82999519307803\n",
            "peso normal\n"
          ]
        }
      ]
    },
    {
      "cell_type": "code",
      "source": [
        "#b)\n",
        "import numpy as np\n",
        "m = 83\n",
        "h = 1.75\n",
        "IMC = m/h**2\n",
        "print (IMC)\n",
        "if IMC <17:\n",
        "  print('muito abaixo do peso')\n",
        "elif IMC>17 and IMC<18.5:\n",
        "  print('abaixo do peso')\n",
        "elif IMC>18.5 and IMC<25:\n",
        "  print('peso normal')\n",
        "elif IMC>25 and IMC<30:\n",
        "  print('acima do peso')\n",
        "elif IMC>30 and IMC<35:\n",
        "  print('obesidade grau I')\n",
        "elif IMC>35 and IMC<40:\n",
        "  print('obesidade grau II')\n",
        "else:\n",
        "  print('obesidade grau III')"
      ],
      "metadata": {
        "colab": {
          "base_uri": "https://localhost:8080/"
        },
        "id": "UzJZ_CZsqhD2",
        "outputId": "e610e728-3371-4d9f-c384-6cc813123da3"
      },
      "execution_count": 8,
      "outputs": [
        {
          "output_type": "stream",
          "name": "stdout",
          "text": [
            "27.102040816326532\n",
            "acima do peso\n"
          ]
        }
      ]
    },
    {
      "cell_type": "code",
      "source": [
        "#c)\n",
        "import numpy as np\n",
        "m = 58\n",
        "h = 1.64\n",
        "IMC = m/h**2\n",
        "print (IMC)\n",
        "if IMC <17:\n",
        "  print('muito abaixo do peso')\n",
        "elif IMC>17 and IMC<18.5:\n",
        "  print('abaixo do peso')\n",
        "elif IMC>18.5 and IMC<25:\n",
        "  print('peso normal')\n",
        "elif IMC>25 and IMC<30:\n",
        "  print('acima do peso')\n",
        "elif IMC>30 and IMC<35:\n",
        "  print('obesidade grau I')\n",
        "elif IMC>35 and IMC<40:\n",
        "  print('obesidade grau II')\n",
        "else:\n",
        "  print('obesidade grau III')"
      ],
      "metadata": {
        "colab": {
          "base_uri": "https://localhost:8080/"
        },
        "id": "cQCIK7PtrCMH",
        "outputId": "a294afeb-5499-4fab-a84b-e19e10b5c717"
      },
      "execution_count": 9,
      "outputs": [
        {
          "output_type": "stream",
          "name": "stdout",
          "text": [
            "21.564544913741823\n",
            "peso normal\n"
          ]
        }
      ]
    },
    {
      "cell_type": "markdown",
      "source": [
        "2) A acidez  A(x)  de uma solução de hidróxido de magnésio em ácido clorídrico, sob certas condições experimentais, é dada pela equação:\n",
        "\n",
        "A(x)=x3+3x2−54 \n",
        "na qual  x  é a concentração de íons hidrônio.\n",
        "\n",
        "Pede-se:\n",
        "\n",
        "a) Gere o gráfico de  A(x)  em função de  x  para 0  ⩽x⩽8 .\n",
        "\n",
        "b) Determine a concentração  x  do íon de hidrônio que resulta em solução saturada (i.e., com acidez nula). Acrescente uma instrução que gere um ponto vermelho no gráfico correspondente à acidez nula da solução."
      ],
      "metadata": {
        "id": "qXAm32ABrYCK"
      }
    },
    {
      "cell_type": "code",
      "source": [
        "import matplotlib.pyplot as plt\n"
      ],
      "metadata": {
        "id": "Py_zjIkGrcBj"
      },
      "execution_count": 20,
      "outputs": []
    }
  ]
}