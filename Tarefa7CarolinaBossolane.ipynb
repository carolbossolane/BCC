{
  "nbformat": 4,
  "nbformat_minor": 0,
  "metadata": {
    "colab": {
      "provenance": [],
      "authorship_tag": "ABX9TyOOzXzrJl44V2L21XcVkTdo",
      "include_colab_link": true
    },
    "kernelspec": {
      "name": "python3",
      "display_name": "Python 3"
    },
    "language_info": {
      "name": "python"
    }
  },
  "cells": [
    {
      "cell_type": "markdown",
      "metadata": {
        "id": "view-in-github",
        "colab_type": "text"
      },
      "source": [
        "<a href=\"https://colab.research.google.com/github/carolbossolane/BCC19CarolinaBossolane/blob/main/Tarefa7CarolinaBossolane.ipynb\" target=\"_parent\"><img src=\"https://colab.research.google.com/assets/colab-badge.svg\" alt=\"Open In Colab\"/></a>"
      ]
    },
    {
      "cell_type": "markdown",
      "source": [
        "Carolina Bossolane Carvalho "
      ],
      "metadata": {
        "id": "ZUb8V9I-WjQa"
      }
    },
    {
      "cell_type": "markdown",
      "source": [
        "1) Faça um programa que mostre se o número inteiro guardado na variável  x  é par ou ímpar. Caso seja par, deve aparecer na tela: \"O número x é par\". Caso seja ímpar deve aparecer \"O número x é ímpar\".\n",
        "Teste para a)  x  = 1, b)  x  = 24, c)  x  = 10, d)  x  = 5."
      ],
      "metadata": {
        "id": "GqykCwwmc_e2"
      }
    },
    {
      "cell_type": "code",
      "source": [
        "#a)\n",
        "x=1\n",
        "if x%2==0:\n",
        "  print('O número x é par')\n",
        "else:\n",
        "  print('O número x é ímpar')\n",
        "\n",
        "  #b)\n",
        "y=24\n",
        "if y%2==0:\n",
        "  print('O número y é par')\n",
        "else:\n",
        "  print('O número y é ímpar')\n",
        "\n",
        "#c)\n",
        "z=10\n",
        "if z%2==0:\n",
        "  print('O número z é par')\n",
        "else:\n",
        "  print('O número z é ímpar')\n",
        "\n",
        "#d)\n",
        "w=5\n",
        "if w%2==0:\n",
        "  print('O número w é par')\n",
        "else:\n",
        "  print('O número w é ímpar')\n",
        "\n"
      ],
      "metadata": {
        "colab": {
          "base_uri": "https://localhost:8080/"
        },
        "id": "lHSXzC9pdEFD",
        "outputId": "743ba848-e446-49ef-96c9-479130f2faad"
      },
      "execution_count": 8,
      "outputs": [
        {
          "output_type": "stream",
          "name": "stdout",
          "text": [
            "O número x é ímpar\n",
            "O número y é par\n",
            "O número z é par\n",
            "O número w é ímpar\n"
          ]
        }
      ]
    }
  ]
}